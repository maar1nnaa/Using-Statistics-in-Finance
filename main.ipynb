{
 "cells": [
  {
   "cell_type": "code",
   "execution_count": 2,
   "metadata": {},
   "outputs": [
    {
     "name": "stdout",
     "output_type": "stream",
     "text": [
      "Collecting pandas_datareader\n",
      "  Downloading pandas_datareader-0.10.0-py3-none-any.whl (109 kB)\n",
      "\u001b[K     |████████████████████████████████| 109 kB 1.7 MB/s eta 0:00:01\n",
      "\u001b[?25hRequirement already satisfied: pandas>=0.23 in /opt/homebrew/anaconda3/envs/finances/lib/python3.7/site-packages (from pandas_datareader) (1.2.3)\n",
      "Requirement already satisfied: requests>=2.19.0 in /opt/homebrew/anaconda3/envs/finances/lib/python3.7/site-packages (from pandas_datareader) (2.26.0)\n",
      "Collecting lxml\n",
      "  Downloading lxml-4.9.1-cp37-cp37m-macosx_10_15_x86_64.whl (4.5 MB)\n",
      "\u001b[K     |████████████████████████████████| 4.5 MB 6.1 MB/s eta 0:00:01\n",
      "\u001b[?25hRequirement already satisfied: numpy>=1.16.5 in /opt/homebrew/anaconda3/envs/finances/lib/python3.7/site-packages (from pandas>=0.23->pandas_datareader) (1.21.4)\n",
      "Requirement already satisfied: python-dateutil>=2.7.3 in /opt/homebrew/anaconda3/envs/finances/lib/python3.7/site-packages (from pandas>=0.23->pandas_datareader) (2.8.2)\n",
      "Requirement already satisfied: pytz>=2017.3 in /opt/homebrew/anaconda3/envs/finances/lib/python3.7/site-packages (from pandas>=0.23->pandas_datareader) (2021.3)\n",
      "Requirement already satisfied: six>=1.5 in /opt/homebrew/anaconda3/envs/finances/lib/python3.7/site-packages (from python-dateutil>=2.7.3->pandas>=0.23->pandas_datareader) (1.16.0)\n",
      "Requirement already satisfied: certifi>=2017.4.17 in /opt/homebrew/anaconda3/envs/finances/lib/python3.7/site-packages (from requests>=2.19.0->pandas_datareader) (2021.10.8)\n",
      "Requirement already satisfied: idna<4,>=2.5 in /opt/homebrew/anaconda3/envs/finances/lib/python3.7/site-packages (from requests>=2.19.0->pandas_datareader) (3.3)\n",
      "Requirement already satisfied: urllib3<1.27,>=1.21.1 in /opt/homebrew/anaconda3/envs/finances/lib/python3.7/site-packages (from requests>=2.19.0->pandas_datareader) (1.26.7)\n",
      "Requirement already satisfied: charset-normalizer~=2.0.0 in /opt/homebrew/anaconda3/envs/finances/lib/python3.7/site-packages (from requests>=2.19.0->pandas_datareader) (2.0.8)\n",
      "Installing collected packages: lxml, pandas-datareader\n",
      "Successfully installed lxml-4.9.1 pandas-datareader-0.10.0\n"
     ]
    }
   ],
   "source": [
    "!pip install pandas_datareader"
   ]
  },
  {
   "cell_type": "code",
   "execution_count": 121,
   "metadata": {},
   "outputs": [],
   "source": [
    "import pandas as pd\n",
    "import pandas_datareader.data as web\n",
    "import numpy as np\n",
    "import datetime\n",
    "# start = datetime.datetime(2010, 1, 1)\n",
    "# end = datetime.datetime(2022, 8, 6)\n",
    "stocks_data = pd.read_csv('data/Stocks_processed.csv', index_col='<DATE>').drop(columns=['Unnamed: 0'])\n"
   ]
  },
  {
   "cell_type": "code",
   "execution_count": 122,
   "metadata": {},
   "outputs": [
    {
     "data": {
      "text/html": [
       "<div>\n",
       "<style scoped>\n",
       "    .dataframe tbody tr th:only-of-type {\n",
       "        vertical-align: middle;\n",
       "    }\n",
       "\n",
       "    .dataframe tbody tr th {\n",
       "        vertical-align: top;\n",
       "    }\n",
       "\n",
       "    .dataframe thead th {\n",
       "        text-align: right;\n",
       "    }\n",
       "</style>\n",
       "<table border=\"1\" class=\"dataframe\">\n",
       "  <thead>\n",
       "    <tr style=\"text-align: right;\">\n",
       "      <th></th>\n",
       "      <th>CHFUSD_lrr</th>\n",
       "      <th>GOLD_lrr</th>\n",
       "      <th>EURUSD_lrr</th>\n",
       "      <th>BRENT_lrr</th>\n",
       "      <th>GAS_lrr</th>\n",
       "      <th>PL_lrr</th>\n",
       "      <th>RUBUSD_lrr</th>\n",
       "      <th>SPY_lrr</th>\n",
       "    </tr>\n",
       "    <tr>\n",
       "      <th>&lt;DATE&gt;</th>\n",
       "      <th></th>\n",
       "      <th></th>\n",
       "      <th></th>\n",
       "      <th></th>\n",
       "      <th></th>\n",
       "      <th></th>\n",
       "      <th></th>\n",
       "      <th></th>\n",
       "    </tr>\n",
       "  </thead>\n",
       "  <tbody>\n",
       "    <tr>\n",
       "      <th>03/01/19</th>\n",
       "      <td>0.002473</td>\n",
       "      <td>0.004094</td>\n",
       "      <td>0.004652</td>\n",
       "      <td>0.015786</td>\n",
       "      <td>0.004803</td>\n",
       "      <td>0.009322</td>\n",
       "      <td>0.003656</td>\n",
       "      <td>-0.025068</td>\n",
       "    </tr>\n",
       "    <tr>\n",
       "      <th>04/01/19</th>\n",
       "      <td>0.001284</td>\n",
       "      <td>-0.008516</td>\n",
       "      <td>0.000377</td>\n",
       "      <td>0.033109</td>\n",
       "      <td>0.037284</td>\n",
       "      <td>0.022267</td>\n",
       "      <td>0.013339</td>\n",
       "      <td>0.033759</td>\n",
       "    </tr>\n",
       "    <tr>\n",
       "      <th>07/01/19</th>\n",
       "      <td>0.006982</td>\n",
       "      <td>-0.006752</td>\n",
       "      <td>0.006802</td>\n",
       "      <td>-0.003641</td>\n",
       "      <td>0.010373</td>\n",
       "      <td>-0.009521</td>\n",
       "      <td>0.015553</td>\n",
       "      <td>0.006986</td>\n",
       "    </tr>\n",
       "    <tr>\n",
       "      <th>08/01/19</th>\n",
       "      <td>-0.001765</td>\n",
       "      <td>-0.000545</td>\n",
       "      <td>-0.003194</td>\n",
       "      <td>0.017562</td>\n",
       "      <td>-0.001666</td>\n",
       "      <td>0.000968</td>\n",
       "      <td>-0.004553</td>\n",
       "      <td>0.009649</td>\n",
       "    </tr>\n",
       "    <tr>\n",
       "      <th>09/01/19</th>\n",
       "      <td>0.008212</td>\n",
       "      <td>0.010618</td>\n",
       "      <td>0.009907</td>\n",
       "      <td>0.045868</td>\n",
       "      <td>-0.003675</td>\n",
       "      <td>0.005189</td>\n",
       "      <td>0.002413</td>\n",
       "      <td>0.004090</td>\n",
       "    </tr>\n",
       "    <tr>\n",
       "      <th>...</th>\n",
       "      <td>...</td>\n",
       "      <td>...</td>\n",
       "      <td>...</td>\n",
       "      <td>...</td>\n",
       "      <td>...</td>\n",
       "      <td>...</td>\n",
       "      <td>...</td>\n",
       "      <td>...</td>\n",
       "    </tr>\n",
       "    <tr>\n",
       "      <th>27/12/21</th>\n",
       "      <td>0.001928</td>\n",
       "      <td>0.002761</td>\n",
       "      <td>0.000574</td>\n",
       "      <td>0.032578</td>\n",
       "      <td>0.029549</td>\n",
       "      <td>-0.001651</td>\n",
       "      <td>-0.000736</td>\n",
       "      <td>0.013744</td>\n",
       "    </tr>\n",
       "    <tr>\n",
       "      <th>28/12/21</th>\n",
       "      <td>0.000028</td>\n",
       "      <td>-0.003315</td>\n",
       "      <td>-0.001457</td>\n",
       "      <td>0.002541</td>\n",
       "      <td>-0.001224</td>\n",
       "      <td>0.009456</td>\n",
       "      <td>-0.003687</td>\n",
       "      <td>-0.001011</td>\n",
       "    </tr>\n",
       "    <tr>\n",
       "      <th>29/12/21</th>\n",
       "      <td>0.003553</td>\n",
       "      <td>-0.001107</td>\n",
       "      <td>0.004049</td>\n",
       "      <td>0.004810</td>\n",
       "      <td>-0.054108</td>\n",
       "      <td>-0.009973</td>\n",
       "      <td>-0.004888</td>\n",
       "      <td>0.001401</td>\n",
       "    </tr>\n",
       "    <tr>\n",
       "      <th>30/12/21</th>\n",
       "      <td>0.000000</td>\n",
       "      <td>0.006295</td>\n",
       "      <td>-0.003280</td>\n",
       "      <td>-0.000758</td>\n",
       "      <td>-0.069325</td>\n",
       "      <td>-0.004245</td>\n",
       "      <td>-0.007602</td>\n",
       "      <td>-0.002994</td>\n",
       "    </tr>\n",
       "    <tr>\n",
       "      <th>31/12/21</th>\n",
       "      <td>0.001826</td>\n",
       "      <td>0.007623</td>\n",
       "      <td>0.003932</td>\n",
       "      <td>-0.015279</td>\n",
       "      <td>0.041265</td>\n",
       "      <td>0.002177</td>\n",
       "      <td>-0.006530</td>\n",
       "      <td>-0.002630</td>\n",
       "    </tr>\n",
       "  </tbody>\n",
       "</table>\n",
       "<p>756 rows × 8 columns</p>\n",
       "</div>"
      ],
      "text/plain": [
       "          CHFUSD_lrr  GOLD_lrr  EURUSD_lrr  BRENT_lrr   GAS_lrr    PL_lrr  \\\n",
       "<DATE>                                                                      \n",
       "03/01/19    0.002473  0.004094    0.004652   0.015786  0.004803  0.009322   \n",
       "04/01/19    0.001284 -0.008516    0.000377   0.033109  0.037284  0.022267   \n",
       "07/01/19    0.006982 -0.006752    0.006802  -0.003641  0.010373 -0.009521   \n",
       "08/01/19   -0.001765 -0.000545   -0.003194   0.017562 -0.001666  0.000968   \n",
       "09/01/19    0.008212  0.010618    0.009907   0.045868 -0.003675  0.005189   \n",
       "...              ...       ...         ...        ...       ...       ...   \n",
       "27/12/21    0.001928  0.002761    0.000574   0.032578  0.029549 -0.001651   \n",
       "28/12/21    0.000028 -0.003315   -0.001457   0.002541 -0.001224  0.009456   \n",
       "29/12/21    0.003553 -0.001107    0.004049   0.004810 -0.054108 -0.009973   \n",
       "30/12/21    0.000000  0.006295   -0.003280  -0.000758 -0.069325 -0.004245   \n",
       "31/12/21    0.001826  0.007623    0.003932  -0.015279  0.041265  0.002177   \n",
       "\n",
       "          RUBUSD_lrr   SPY_lrr  \n",
       "<DATE>                          \n",
       "03/01/19    0.003656 -0.025068  \n",
       "04/01/19    0.013339  0.033759  \n",
       "07/01/19    0.015553  0.006986  \n",
       "08/01/19   -0.004553  0.009649  \n",
       "09/01/19    0.002413  0.004090  \n",
       "...              ...       ...  \n",
       "27/12/21   -0.000736  0.013744  \n",
       "28/12/21   -0.003687 -0.001011  \n",
       "29/12/21   -0.004888  0.001401  \n",
       "30/12/21   -0.007602 -0.002994  \n",
       "31/12/21   -0.006530 -0.002630  \n",
       "\n",
       "[756 rows x 8 columns]"
      ]
     },
     "execution_count": 122,
     "metadata": {},
     "output_type": "execute_result"
    }
   ],
   "source": [
    "stocks_data"
   ]
  },
  {
   "cell_type": "code",
   "execution_count": 123,
   "metadata": {},
   "outputs": [
    {
     "data": {
      "text/plain": [
       "<AxesSubplot:title={'center':'S&P 500 daily log returns'}, xlabel='<DATE>'>"
      ]
     },
     "execution_count": 123,
     "metadata": {},
     "output_type": "execute_result"
    },
    {
     "data": {
      "image/png": "[encoded data removed]",
      "text/plain": [
       "<Figure size 432x288 with 1 Axes>"
      ]
     },
     "metadata": {
      "needs_background": "light"
     },
     "output_type": "display_data"
    }
   ],
   "source": [
    "stocks_data['SPY_lrr'].plot(title='S&P 500 daily log returns')\n"
   ]
  },
  {
   "cell_type": "code",
   "execution_count": 124,
   "metadata": {},
   "outputs": [],
   "source": [
    "small_pop = stocks_data['SPY_lrr'].dropna().sample(n=10)\n",
    "big_pop = stocks_data['SPY_lrr'].dropna().sample(n=600)"
   ]
  },
  {
   "cell_type": "code",
   "execution_count": 125,
   "metadata": {},
   "outputs": [
    {
     "name": "stdout",
     "output_type": "stream",
     "text": [
      "small_pop mean: 0.006751364983634879\n",
      "small_pop standard deviation: 0.009313288255431243\n",
      "big_pop mean: 0.0009875463637088948\n",
      "big_pop standard deviation: 0.013156439197786439\n"
     ]
    }
   ],
   "source": [
    "print('small_pop mean:', np.mean(small_pop))\n",
    "print('small_pop standard deviation:',np.std(small_pop))\n",
    "print('big_pop mean:', np.mean(big_pop))\n",
    "print('big_pop standard deviation:',np.std(big_pop))\n",
    "\n"
   ]
  },
  {
   "cell_type": "code",
   "execution_count": 84,
   "metadata": {},
   "outputs": [],
   "source": [
    "spy_log_return  = stocks_data['SPY_lrr'].dropna()"
   ]
  },
  {
   "cell_type": "code",
   "execution_count": 87,
   "metadata": {},
   "outputs": [
    {
     "name": "stdout",
     "output_type": "stream",
     "text": [
      "10 days 95% confidence inverval: (-0.003663232590257857, 0.007797414777982837)\n",
      "600 days 95% confidence inverval: (-0.0003711872073257534, 0.0020880825781114994)\n"
     ]
    }
   ],
   "source": [
    "bottom_1 = np.mean(spy_log_return.tail(10))-1.96*np.std(spy_log_return.tail(10))/(np.sqrt(len((spy_log_return.tail(10)))))\n",
    "upper_1 = np.mean(spy_log_return.tail(10))+1.96*np.std(spy_log_return.tail(10))/(np.sqrt(len((spy_log_return.tail(10)))))\n",
    "bottom_2 = np.mean(spy_log_return.tail(600))-1.96*np.std(spy_log_return.tail(600))/(np.sqrt(len((spy_log_return.tail(600)))))\n",
    "upper_2 = np.mean(spy_log_return.tail(600))+1.96*np.std(spy_log_return.tail(600))/(np.sqrt(len((spy_log_return.tail(600)))))\n",
    "#print the outcomes\n",
    "print('10 days 95% confidence inverval:', (bottom_1,upper_1))\n",
    "print('600 days 95% confidence inverval:', (bottom_2,upper_2))\n"
   ]
  },
  {
   "cell_type": "markdown",
   "metadata": {},
   "source": [
    "# Проверка гипотезы о среднем\n",
    "Мы посмотрели на график log daily returns и предположили, что среднее для всег SPY –  0"
   ]
  },
  {
   "cell_type": "markdown",
   "metadata": {},
   "source": [
    "Cначала давайте проверим через доверительные интервалы "
   ]
  },
  {
   "cell_type": "code",
   "execution_count": 88,
   "metadata": {},
   "outputs": [
    {
     "name": "stdout",
     "output_type": "stream",
     "text": [
      "mean_10     0.002067\n",
      "std_10      0.009245\n",
      "mean_600    0.000858\n",
      "std_600     0.015367\n",
      "dtype: float64\n"
     ]
    }
   ],
   "source": [
    "mean_600 = np.mean(spy_log_return.tail(600))\n",
    "std_600 = np.std(spy_log_return.tail(600))\n",
    "mean_10 = np.mean(spy_log_return.tail(10))\n",
    "std_10 = np.std(spy_log_return.tail(10))\n",
    "s = pd.Series([mean_10,std_10,mean_600,std_600],index = ['mean_10', 'std_10','mean_600','std_600'])\n",
    "print(s)"
   ]
  },
  {
   "cell_type": "markdown",
   "metadata": {},
   "source": [
    "Видим, что наше выборочное среднее попало в 90% доверительный интервал"
   ]
  },
  {
   "cell_type": "code",
   "execution_count": 90,
   "metadata": {},
   "outputs": [
    {
     "name": "stdout",
     "output_type": "stream",
     "text": [
      "(-0.0010288781755400753, 0.0010288781755400753)\n"
     ]
    }
   ],
   "source": [
    "bottom = 0 - 1.64*std_600/np.sqrt(600)\n",
    "upper = 0 + 1.64*std_600/np.sqrt(600)\n",
    "print((bottom, upper))"
   ]
  },
  {
   "cell_type": "code",
   "execution_count": 89,
   "metadata": {},
   "outputs": [
    {
     "name": "stdout",
     "output_type": "stream",
     "text": [
      "(-0.0012296348927186265, 0.0012296348927186265)\n"
     ]
    }
   ],
   "source": [
    "bottom = 0 - 1.96*std_600/np.sqrt(600)\n",
    "upper = 0 + 1.96*std_600/np.sqrt(600)\n",
    "print((bottom, upper))"
   ]
  },
  {
   "cell_type": "markdown",
   "metadata": {},
   "source": [
    "Но попало в 95%"
   ]
  },
  {
   "cell_type": "markdown",
   "metadata": {},
   "source": [
    "Теперь давайте проведём Z-test\n",
    "$$\n",
    "H_0: \\mu = 0 \\\\\n",
    "H_1: \\mu \\neq 0\n",
    "$$"
   ]
  },
  {
   "cell_type": "code",
   "execution_count": 91,
   "metadata": {},
   "outputs": [],
   "source": [
    "z_crit = (np.sqrt(600)*(mean_600 - 0)/std_600)\n"
   ]
  },
  {
   "cell_type": "code",
   "execution_count": 92,
   "metadata": {},
   "outputs": [
    {
     "name": "stdout",
     "output_type": "stream",
     "text": [
      "0.08560298359554741\n"
     ]
    }
   ],
   "source": [
    "import scipy.stats as st\n",
    "print((1 - st.norm.cdf(z_crit)))"
   ]
  },
  {
   "cell_type": "markdown",
   "metadata": {},
   "source": [
    "При среднем размере выборки нулевая гипотеза принимается"
   ]
  },
  {
   "cell_type": "code",
   "execution_count": 93,
   "metadata": {},
   "outputs": [
    {
     "name": "stdout",
     "output_type": "stream",
     "text": [
      "z-score =  1.6396762988672497\n",
      "p_value =  0.05053624473191887\n"
     ]
    }
   ],
   "source": [
    "mean_all = np.mean(spy_log_return)\n",
    "std_all = np.std(spy_log_return)\n",
    "z_score = np.sqrt(len(spy_log_return))*(mean_all - 0)/std_all\n",
    "print('z-score = ',z_score)\n",
    "p_value = (1 - st.norm.cdf(z_score))\n",
    "print('p_value = ',p_value)"
   ]
  },
  {
   "cell_type": "markdown",
   "metadata": {},
   "source": [
    "При большем объёме выборки видим, что нулевая гипотеза cнова принимается на уровне значимости 0.95 и даже 0.9"
   ]
  },
  {
   "cell_type": "markdown",
   "metadata": {},
   "source": [
    "Все рассмотренные тесты так же есть и в модуле statsmodels.stats"
   ]
  },
  {
   "cell_type": "code",
   "execution_count": 98,
   "metadata": {},
   "outputs": [
    {
     "name": "stdout",
     "output_type": "stream",
     "text": [
      "0.10129836417233666\n",
      "mean is 0\n"
     ]
    }
   ],
   "source": [
    "from statsmodels.stats import weightstats as stests\n",
    "ztest ,pval = stests.ztest(spy_log_return, value=0, alternative='two-sided')\n",
    "print(pval)\n",
    "if pval<0.025:\n",
    "    print(\"mean is not 0\")\n",
    "else:\n",
    "    print(\"mean is 0\")"
   ]
  },
  {
   "cell_type": "markdown",
   "metadata": {},
   "source": [
    "## Некоторые другие тесты для"
   ]
  },
  {
   "cell_type": "code",
   "execution_count": 99,
   "metadata": {},
   "outputs": [
    {
     "data": {
      "text/plain": [
       "<AxesSubplot:>"
      ]
     },
     "execution_count": 99,
     "metadata": {},
     "output_type": "execute_result"
    },
    {
     "data": {
      "image/png": "[encoded data removed]",
      "text/plain": [
       "<Figure size 864x576 with 1 Axes>"
      ]
     },
     "metadata": {
      "needs_background": "light"
     },
     "output_type": "display_data"
    }
   ],
   "source": [
    "spy_log_return.hist(bins=50, figsize=(12,8))"
   ]
  },
  {
   "cell_type": "code",
   "execution_count": 100,
   "metadata": {},
   "outputs": [
    {
     "name": "stdout",
     "output_type": "stream",
     "text": [
      "stat=0.792, p=0.000\n",
      "Probably not Gaussian\n"
     ]
    }
   ],
   "source": [
    "# Example of the Shapiro-Wilk Normality Test\n",
    "from scipy.stats import shapiro\n",
    "stat, p = shapiro(spy_log_return)\n",
    "print('stat=%.3f, p=%.3f' % (stat, p))\n",
    "if p > 0.05:\n",
    "\tprint('Probably Gaussian')\n",
    "else:\n",
    "\tprint('Probably not Gaussian')"
   ]
  },
  {
   "cell_type": "code",
   "execution_count": 101,
   "metadata": {},
   "outputs": [
    {
     "data": {
      "text/html": [
       "<div>\n",
       "<style scoped>\n",
       "    .dataframe tbody tr th:only-of-type {\n",
       "        vertical-align: middle;\n",
       "    }\n",
       "\n",
       "    .dataframe tbody tr th {\n",
       "        vertical-align: top;\n",
       "    }\n",
       "\n",
       "    .dataframe thead th {\n",
       "        text-align: right;\n",
       "    }\n",
       "</style>\n",
       "<table border=\"1\" class=\"dataframe\">\n",
       "  <thead>\n",
       "    <tr style=\"text-align: right;\">\n",
       "      <th></th>\n",
       "      <th>CHFUSD_lrr</th>\n",
       "      <th>GOLD_lrr</th>\n",
       "      <th>EURUSD_lrr</th>\n",
       "      <th>BRENT_lrr</th>\n",
       "      <th>GAS_lrr</th>\n",
       "      <th>PL_lrr</th>\n",
       "      <th>RUBUSD_lrr</th>\n",
       "      <th>SPY_lrr</th>\n",
       "    </tr>\n",
       "    <tr>\n",
       "      <th>&lt;DATE&gt;</th>\n",
       "      <th></th>\n",
       "      <th></th>\n",
       "      <th></th>\n",
       "      <th></th>\n",
       "      <th></th>\n",
       "      <th></th>\n",
       "      <th></th>\n",
       "      <th></th>\n",
       "    </tr>\n",
       "  </thead>\n",
       "  <tbody>\n",
       "    <tr>\n",
       "      <th>03/01/19</th>\n",
       "      <td>0.002473</td>\n",
       "      <td>0.004094</td>\n",
       "      <td>0.004652</td>\n",
       "      <td>0.015786</td>\n",
       "      <td>0.004803</td>\n",
       "      <td>0.009322</td>\n",
       "      <td>0.003656</td>\n",
       "      <td>-0.025068</td>\n",
       "    </tr>\n",
       "    <tr>\n",
       "      <th>04/01/19</th>\n",
       "      <td>0.001284</td>\n",
       "      <td>-0.008516</td>\n",
       "      <td>0.000377</td>\n",
       "      <td>0.033109</td>\n",
       "      <td>0.037284</td>\n",
       "      <td>0.022267</td>\n",
       "      <td>0.013339</td>\n",
       "      <td>0.033759</td>\n",
       "    </tr>\n",
       "    <tr>\n",
       "      <th>07/01/19</th>\n",
       "      <td>0.006982</td>\n",
       "      <td>-0.006752</td>\n",
       "      <td>0.006802</td>\n",
       "      <td>-0.003641</td>\n",
       "      <td>0.010373</td>\n",
       "      <td>-0.009521</td>\n",
       "      <td>0.015553</td>\n",
       "      <td>0.006986</td>\n",
       "    </tr>\n",
       "    <tr>\n",
       "      <th>08/01/19</th>\n",
       "      <td>-0.001765</td>\n",
       "      <td>-0.000545</td>\n",
       "      <td>-0.003194</td>\n",
       "      <td>0.017562</td>\n",
       "      <td>-0.001666</td>\n",
       "      <td>0.000968</td>\n",
       "      <td>-0.004553</td>\n",
       "      <td>0.009649</td>\n",
       "    </tr>\n",
       "    <tr>\n",
       "      <th>09/01/19</th>\n",
       "      <td>0.008212</td>\n",
       "      <td>0.010618</td>\n",
       "      <td>0.009907</td>\n",
       "      <td>0.045868</td>\n",
       "      <td>-0.003675</td>\n",
       "      <td>0.005189</td>\n",
       "      <td>0.002413</td>\n",
       "      <td>0.004090</td>\n",
       "    </tr>\n",
       "    <tr>\n",
       "      <th>...</th>\n",
       "      <td>...</td>\n",
       "      <td>...</td>\n",
       "      <td>...</td>\n",
       "      <td>...</td>\n",
       "      <td>...</td>\n",
       "      <td>...</td>\n",
       "      <td>...</td>\n",
       "      <td>...</td>\n",
       "    </tr>\n",
       "    <tr>\n",
       "      <th>27/12/21</th>\n",
       "      <td>0.001928</td>\n",
       "      <td>0.002761</td>\n",
       "      <td>0.000574</td>\n",
       "      <td>0.032578</td>\n",
       "      <td>0.029549</td>\n",
       "      <td>-0.001651</td>\n",
       "      <td>-0.000736</td>\n",
       "      <td>0.013744</td>\n",
       "    </tr>\n",
       "    <tr>\n",
       "      <th>28/12/21</th>\n",
       "      <td>0.000028</td>\n",
       "      <td>-0.003315</td>\n",
       "      <td>-0.001457</td>\n",
       "      <td>0.002541</td>\n",
       "      <td>-0.001224</td>\n",
       "      <td>0.009456</td>\n",
       "      <td>-0.003687</td>\n",
       "      <td>-0.001011</td>\n",
       "    </tr>\n",
       "    <tr>\n",
       "      <th>29/12/21</th>\n",
       "      <td>0.003553</td>\n",
       "      <td>-0.001107</td>\n",
       "      <td>0.004049</td>\n",
       "      <td>0.004810</td>\n",
       "      <td>-0.054108</td>\n",
       "      <td>-0.009973</td>\n",
       "      <td>-0.004888</td>\n",
       "      <td>0.001401</td>\n",
       "    </tr>\n",
       "    <tr>\n",
       "      <th>30/12/21</th>\n",
       "      <td>0.000000</td>\n",
       "      <td>0.006295</td>\n",
       "      <td>-0.003280</td>\n",
       "      <td>-0.000758</td>\n",
       "      <td>-0.069325</td>\n",
       "      <td>-0.004245</td>\n",
       "      <td>-0.007602</td>\n",
       "      <td>-0.002994</td>\n",
       "    </tr>\n",
       "    <tr>\n",
       "      <th>31/12/21</th>\n",
       "      <td>0.001826</td>\n",
       "      <td>0.007623</td>\n",
       "      <td>0.003932</td>\n",
       "      <td>-0.015279</td>\n",
       "      <td>0.041265</td>\n",
       "      <td>0.002177</td>\n",
       "      <td>-0.006530</td>\n",
       "      <td>-0.002630</td>\n",
       "    </tr>\n",
       "  </tbody>\n",
       "</table>\n",
       "<p>756 rows × 8 columns</p>\n",
       "</div>"
      ],
      "text/plain": [
       "          CHFUSD_lrr  GOLD_lrr  EURUSD_lrr  BRENT_lrr   GAS_lrr    PL_lrr  \\\n",
       "<DATE>                                                                      \n",
       "03/01/19    0.002473  0.004094    0.004652   0.015786  0.004803  0.009322   \n",
       "04/01/19    0.001284 -0.008516    0.000377   0.033109  0.037284  0.022267   \n",
       "07/01/19    0.006982 -0.006752    0.006802  -0.003641  0.010373 -0.009521   \n",
       "08/01/19   -0.001765 -0.000545   -0.003194   0.017562 -0.001666  0.000968   \n",
       "09/01/19    0.008212  0.010618    0.009907   0.045868 -0.003675  0.005189   \n",
       "...              ...       ...         ...        ...       ...       ...   \n",
       "27/12/21    0.001928  0.002761    0.000574   0.032578  0.029549 -0.001651   \n",
       "28/12/21    0.000028 -0.003315   -0.001457   0.002541 -0.001224  0.009456   \n",
       "29/12/21    0.003553 -0.001107    0.004049   0.004810 -0.054108 -0.009973   \n",
       "30/12/21    0.000000  0.006295   -0.003280  -0.000758 -0.069325 -0.004245   \n",
       "31/12/21    0.001826  0.007623    0.003932  -0.015279  0.041265  0.002177   \n",
       "\n",
       "          RUBUSD_lrr   SPY_lrr  \n",
       "<DATE>                          \n",
       "03/01/19    0.003656 -0.025068  \n",
       "04/01/19    0.013339  0.033759  \n",
       "07/01/19    0.015553  0.006986  \n",
       "08/01/19   -0.004553  0.009649  \n",
       "09/01/19    0.002413  0.004090  \n",
       "...              ...       ...  \n",
       "27/12/21   -0.000736  0.013744  \n",
       "28/12/21   -0.003687 -0.001011  \n",
       "29/12/21   -0.004888  0.001401  \n",
       "30/12/21   -0.007602 -0.002994  \n",
       "31/12/21   -0.006530 -0.002630  \n",
       "\n",
       "[756 rows x 8 columns]"
      ]
     },
     "execution_count": 101,
     "metadata": {},
     "output_type": "execute_result"
    }
   ],
   "source": [
    "stocks_data"
   ]
  },
  {
   "cell_type": "code",
   "execution_count": 109,
   "metadata": {},
   "outputs": [
    {
     "name": "stdout",
     "output_type": "stream",
     "text": [
      "p-value for significance is:  0.8688157804263602\n",
      "accept null hypothesis\n"
     ]
    }
   ],
   "source": [
    "# Anova Test\n",
    "from scipy import stats\n",
    "from statsmodels.stats import weightstats as stests\n",
    "F, p = stats.f_oneway(stocks_data['SPY_lrr'],stocks_data['GOLD_lrr'], stocks_data['GAS_lrr'])\n",
    "print(\"p-value for significance is: \", p)\n",
    "if p<0.05:\n",
    "    print(\"reject null hypothesis\")\n",
    "else:\n",
    "    print(\"accept null hypothesis\")"
   ]
  },
  {
   "cell_type": "markdown",
   "metadata": {},
   "source": [
    "# Correlation test"
   ]
  },
  {
   "cell_type": "code",
   "execution_count": 116,
   "metadata": {},
   "outputs": [
    {
     "data": {
      "text/plain": [
       "<AxesSubplot:title={'center':'Gold daily log returns'}, xlabel='<DATE>'>"
      ]
     },
     "execution_count": 116,
     "metadata": {},
     "output_type": "execute_result"
    },
    {
     "data": {
      "image/png": "[encoded data removed]",
      "text/plain": [
       "<Figure size 864x576 with 1 Axes>"
      ]
     },
     "metadata": {
      "needs_background": "light"
     },
     "output_type": "display_data"
    }
   ],
   "source": [
    "stocks_data['SPY_lrr'].plot(title='S&P 500 daily log returns', legend=True, figsize=(12,8))\n",
    "stocks_data['GOLD_lrr'].plot(title='Gold daily log returns', legend=True, figsize=(12,8))"
   ]
  },
  {
   "cell_type": "code",
   "execution_count": 111,
   "metadata": {},
   "outputs": [
    {
     "name": "stdout",
     "output_type": "stream",
     "text": [
      "p-value for significance is:  3.314217905407808e-05\n",
      "correlation is:  0.15035033069076761\n"
     ]
    }
   ],
   "source": [
    "from scipy.stats.stats import pearsonr\n",
    "corr, p = pearsonr(stocks_data['SPY_lrr'],stocks_data['GOLD_lrr'])\n",
    "print(\"p-value for significance is: \", p)\n",
    "print(\"correlation is: \", corr)\n"
   ]
  },
  {
   "cell_type": "markdown",
   "metadata": {},
   "source": [
    "## Проверка связи двух категориальных признаков"
   ]
  },
  {
   "cell_type": "code",
   "execution_count": 117,
   "metadata": {},
   "outputs": [],
   "source": [
    "df = pd.DataFrame({'Order': [1, 2, 3, 4, 5, 6, 7, 8, 9, 10,\n",
    "                            11, 12, 13, 14, 15, 16, 17, 18, 19, 20],\n",
    "                   'Product': ['TV', 'TV', 'Comp', 'TV', 'TV', 'Comp',\n",
    "                               'Comp', 'Comp', 'TV', 'Radio', 'TV', 'Radio', 'Radio',\n",
    "                               'Radio', 'Comp', 'Comp', 'TV', 'TV', 'Radio', 'TV'],\n",
    "                   'Country': ['A', 'A', 'A', 'A', 'B', 'B', 'B', 'B', 'B', 'B', 'B',\n",
    "                               'B', 'C', 'C', 'C', 'C', 'C', 'C', 'C', 'C']})"
   ]
  },
  {
   "cell_type": "code",
   "execution_count": 119,
   "metadata": {},
   "outputs": [
    {
     "name": "stdout",
     "output_type": "stream",
     "text": [
      "stat=2.750, p=0.600\n",
      "Probably independent\n"
     ]
    }
   ],
   "source": [
    "from scipy.stats import chi2_contingency\n",
    "\n",
    "table = pd.crosstab(index=df['Country'], columns=df['Product'])\n",
    "stat, p, dof, expected = chi2_contingency(table)\n",
    "print('stat=%.3f, p=%.3f' % (stat, p))\n",
    "if p > 0.05:\n",
    "\tprint('Probably independent')\n",
    "else:\n",
    "\tprint('Probably dependent')"
   ]
  },
  {
   "cell_type": "markdown",
   "metadata": {},
   "source": [
    "# Теперь давайте сами"
   ]
  },
  {
   "cell_type": "code",
   "execution_count": 135,
   "metadata": {},
   "outputs": [],
   "source": [
    "aapl_stock_price_data = web.DataReader('AAPL', 'yahoo', '2014-09-17', '2022-08-06')"
   ]
  },
  {
   "cell_type": "code",
   "execution_count": 136,
   "metadata": {},
   "outputs": [],
   "source": [
    "btc_price_data = web.DataReader('BTC-USD', 'yahoo', '2010-01-01', '2022-08-06')"
   ]
  },
  {
   "cell_type": "code",
   "execution_count": 141,
   "metadata": {},
   "outputs": [
    {
     "data": {
      "image/png": "[encoded data removed]",
      "text/plain": [
       "<Figure size 864x576 with 2 Axes>"
      ]
     },
     "metadata": {
      "needs_background": "light"
     },
     "output_type": "display_data"
    }
   ],
   "source": [
    "import matplotlib.pyplot as plt\n",
    "\n",
    "fig, ax = plt.subplots(figsize=(12,8))\n",
    "\n",
    "# Plot linear sequence, and set tick labels to the same color\n",
    "ax.plot(aapl_stock_price_data['Adj Close'], color='red')\n",
    "ax.tick_params(axis='y', labelcolor='red')\n",
    "\n",
    "# Generate a new Axes instance, on the twin-X axes (same position)\n",
    "ax2 = ax.twinx()\n",
    "\n",
    "# Plot exponential sequence, set scale to logarithmic and change tick color\n",
    "ax2.plot(btc_price_data['Adj Close'], color='green')\n",
    "ax2.tick_params(axis='y', labelcolor='green')\n",
    "\n",
    "plt.show()"
   ]
  },
  {
   "cell_type": "markdown",
   "metadata": {},
   "source": []
  },
  {
   "cell_type": "code",
   "execution_count": 142,
   "metadata": {},
   "outputs": [],
   "source": [
    "# на основе Adj Close извлеките логарифмическую доходность BTC task1, ответ – мю и сигма\n",
    "# проверьте распределение получившихся данных BTC task2, ответ yes/no \n",
    "# возмонжо попробуйте их (BTC) нормализовать task3, ответ – mu и sigma\n",
    "# попробуйте предположить по подвыборке размером 634 дней среднее значение для доходностей (BTC) на уровне 90 95 99 – task 4, ответ – val + [a;b]\n",
    "# проверьте корреляцию доходностей BTC & AAPL – task5, ответ – yes/no"
   ]
  },
  {
   "cell_type": "code",
   "execution_count": null,
   "metadata": {},
   "outputs": [],
   "source": [
    "ANSWERS = {\n",
    "    'tasks' : {\n",
    "        'task1_mu' : {\n",
    "            \"answer\" : 0\n",
    "        }, \n",
    "        'task1_sigma' : {\n",
    "            \"answer\" : 0\n",
    "        }, \n",
    "        'task2_normal' : {\n",
    "            'answer' : 'yes'\n",
    "        }, \n",
    "        'task3_mu' : {\n",
    "            \"answer\" : 0\n",
    "        }, \n",
    "        'task3_sigma' : {\n",
    "            \"answer\" : 0\n",
    "        }, \n",
    "        'task4_90' : {\n",
    "            \"answer\" : 0.1\n",
    "        }, \n",
    "        'task4_90_int' : {\n",
    "            \"answer\" : [0.01, 0.2]\n",
    "        }, \n",
    "        'task4_95' : {\n",
    "            \"answer\" : 0.1\n",
    "        }, \n",
    "        'task4_95_int' : {\n",
    "            \"answer\" : [0.01, 0.2]\n",
    "        }, \n",
    "        'task4_99' : {\n",
    "            \"answer\" : 0.1\n",
    "        }, \n",
    "        'task4_99_int' : {\n",
    "            \"answer\" : [0.01, 0.2]\n",
    "        }, \n",
    "        'task5_corr' : {\n",
    "            \"answer\" : \"no\"\n",
    "        }\n",
    "    }\n",
    "}"
   ]
  },
  {
   "cell_type": "code",
   "execution_count": null,
   "metadata": {},
   "outputs": [],
   "source": [
    "yaml_result = yaml.dump(ANSWERS)\n",
    "\n",
    "print(yaml_result)\n",
    "\n",
    "with open(f\"hw03.yaml\", \"w\") as f:\n",
    "    f.write(yaml_result)"
   ]
  }
 ],
 "metadata": {
  "kernelspec": {
   "display_name": "Python 3.7.11 ('finances')",
   "language": "python",
   "name": "python3"
  },
  "language_info": {
   "codemirror_mode": {
    "name": "ipython",
    "version": 3
   },
   "file_extension": ".py",
   "mimetype": "text/x-python",
   "name": "python",
   "nbconvert_exporter": "python",
   "pygments_lexer": "ipython3",
   "version": "3.7.11"
  },
  "orig_nbformat": 4,
  "vscode": {
   "interpreter": {
    "hash": "06eb64162e3feaf379b141db2033635c6d42f608f67f90b96907f99ab752a0b5"
   }
  }
 },
 "nbformat": 4,
 "nbformat_minor": 2
}
